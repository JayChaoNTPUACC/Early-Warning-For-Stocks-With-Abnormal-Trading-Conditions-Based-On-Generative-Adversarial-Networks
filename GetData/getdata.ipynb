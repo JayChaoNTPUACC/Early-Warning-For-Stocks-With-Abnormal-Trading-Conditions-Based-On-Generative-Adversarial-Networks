{
  "nbformat": 4,
  "nbformat_minor": 0,
  "metadata": {
    "colab": {
      "provenance": [],
      "authorship_tag": "ABX9TyPHfUgiou/OowT/O9KJagvF",
      "include_colab_link": true
    },
    "kernelspec": {
      "name": "python3",
      "display_name": "Python 3"
    },
    "language_info": {
      "name": "python"
    }
  },
  "cells": [
    {
      "cell_type": "markdown",
      "metadata": {
        "id": "view-in-github",
        "colab_type": "text"
      },
      "source": [
        "<a href=\"https://colab.research.google.com/github/JayChaoNTPUACC/Early-Warning-For-Stocks-With-Abnormal-Trading-Conditions-Based-On-Generative-Adversarial-Networks/blob/main/GetData/getdata.ipynb\" target=\"_parent\"><img src=\"https://colab.research.google.com/assets/colab-badge.svg\" alt=\"Open In Colab\"/></a>"
      ]
    },
    {
      "cell_type": "code",
      "execution_count": null,
      "metadata": {
        "id": "Xzv1q2Zb0VNv"
      },
      "outputs": [],
      "source": [
        "!pip install ffn\n",
        "!pip install FinMind\n",
        "url = 'https://launchpad.net/~mario-mariomedina/+archive/ubuntu/talib/+files'\n",
        "ext = '0.4.0-oneiric1_amd64.deb -qO'\n",
        "!wget $url/libta-lib0_$ext libta.deb\n",
        "!wget $url/ta-lib0-dev_$ext ta.deb\n",
        "!dpkg -i libta.deb ta.deb\n",
        "!pip install ta-lib"
      ]
    },
    {
      "cell_type": "code",
      "execution_count": 3,
      "metadata": {
        "id": "leUeJTyMFZmC"
      },
      "outputs": [],
      "source": [
        "import os\n",
        "import pandas as pd\n",
        "import ffn\n",
        "import FinMind\n",
        "import talib"
      ]
    },
    {
      "cell_type": "code",
      "source": [
        "df_punishdata = pd.read_excel(\"punish.xlsx\")"
      ],
      "metadata": {
        "id": "liDng07t0jbd"
      },
      "execution_count": 4,
      "outputs": []
    },
    {
      "cell_type": "code",
      "source": [
        "df_punishdata.head()"
      ],
      "metadata": {
        "id": "Uc2GmURN6CeS"
      },
      "execution_count": null,
      "outputs": []
    },
    {
      "cell_type": "code",
      "source": [
        "for index, row in df_punishdata.iterrows():\n",
        "  stock_num = row[\"證券代號\"]\n",
        "  #print(stock_num)\n",
        "  announced_day = row[\"公布日期\"]\n",
        "  #print(announced_day)\n",
        "  stock_name = row[\"證券名稱\"]\n",
        "  #print(stock_name)\n",
        "  stock_punishreason_kind = row[\"代碼\"]\n",
        "  #print(stock_punishreason_kind)\n",
        "  punish_startdate = row[\"處置開始時間\"]\n",
        "  #print(punish_startdate)\n",
        "  punish_enddate = row[\"處置結束時間\"]\n",
        "  #print(punish_enddate)\n",
        ""
      ],
      "metadata": {
        "id": "RN7DFUveIcqc"
      },
      "execution_count": null,
      "outputs": []
    }
  ]
}